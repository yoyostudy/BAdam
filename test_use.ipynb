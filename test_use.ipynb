{
 "cells": [
  {
   "cell_type": "code",
   "execution_count": 1,
   "metadata": {},
   "outputs": [
    {
     "name": "stderr",
     "output_type": "stream",
     "text": [
      "/home/yoyo/Documents/BAdam/venv/lib/python3.10/site-packages/tqdm/auto.py:21: TqdmWarning: IProgress not found. Please update jupyter and ipywidgets. See https://ipywidgets.readthedocs.io/en/stable/user_install.html\n",
      "  from .autonotebook import tqdm as notebook_tqdm\n"
     ]
    }
   ],
   "source": [
    "import torch\n",
    "import torch.nn as nn\n",
    "import torch.optim as optim\n",
    "from src.badam import BlockOptimizer"
   ]
  },
  {
   "cell_type": "code",
   "execution_count": 113,
   "metadata": {},
   "outputs": [
    {
     "name": "stdout",
     "output_type": "stream",
     "text": [
      "Gradient for fc1.weight\n",
      "Gradient for fc1.bias\n",
      "Gradient for fc2.weight\n",
      "Gradient for fc2.bias\n",
      "Epoch [1/10], Loss: 1.2658\n",
      "Gradient for fc1.weight\n",
      "Gradient for fc1.bias\n",
      "Gradient for fc2.weight\n",
      "Gradient for fc2.bias\n",
      "Epoch [2/10], Loss: 1.2658\n",
      "Gradient for fc1.weight\n",
      "Gradient for fc1.bias\n",
      "Gradient for fc2.weight\n",
      "Gradient for fc2.bias\n",
      "Epoch [3/10], Loss: 1.2658\n",
      "Gradient for fc1.weight\n",
      "Gradient for fc1.bias\n",
      "Gradient for fc2.weight\n",
      "Gradient for fc2.bias\n",
      "Epoch [4/10], Loss: 1.2658\n",
      "Gradient for fc1.weight\n",
      "Gradient for fc1.bias\n",
      "Gradient for fc2.weight\n",
      "Gradient for fc2.bias\n",
      "Epoch [5/10], Loss: 1.2658\n",
      "Gradient for fc1.weight\n",
      "Gradient for fc1.bias\n",
      "Gradient for fc2.weight\n",
      "Gradient for fc2.bias\n",
      "Epoch [6/10], Loss: 1.2658\n",
      "Gradient for fc1.weight\n",
      "Gradient for fc1.bias\n",
      "Gradient for fc2.weight\n",
      "Gradient for fc2.bias\n",
      "Epoch [7/10], Loss: 1.2658\n",
      "Gradient for fc1.weight\n",
      "Gradient for fc1.bias\n",
      "Gradient for fc2.weight\n",
      "Gradient for fc2.bias\n",
      "Epoch [8/10], Loss: 1.2658\n",
      "Gradient for fc1.weight\n",
      "Gradient for fc1.bias\n",
      "Gradient for fc2.weight\n",
      "Gradient for fc2.bias\n",
      "Epoch [9/10], Loss: 1.2658\n",
      "Gradient for fc1.weight\n",
      "Gradient for fc1.bias\n",
      "Gradient for fc2.weight\n",
      "Gradient for fc2.bias\n",
      "Epoch [10/10], Loss: 1.2658\n"
     ]
    }
   ],
   "source": [
    "class Net(nn.Module):\n",
    "    \n",
    "    def __init__(self):\n",
    "        super(Net, self).__init__()\n",
    "        self.fc1 = nn.Linear(10, 10)\n",
    "        self.relu = nn.ReLU()\n",
    "        self.fc2 = nn.Linear(10, 1)\n",
    "        \n",
    "    def forward(self, x):\n",
    "        x = self.fc1(x)\n",
    "        #print(f'Output after fc1: {x}')\n",
    "        x = self.relu(x)\n",
    "        #print(f'Output after ReLU: {x}')\n",
    "        x = self.fc2(x)\n",
    "        #print(f'Output after fc2: {x}')\n",
    "        return x\n",
    "\n",
    "model = Net().cuda()  \n",
    "criterion = nn.MSELoss()\n",
    "optimizer = adam_optimizer\n",
    "\n",
    "model.train()\n",
    "num_epochs = 10\n",
    "for epoch in range(num_epochs):\n",
    "    model.train()\n",
    "    \n",
    "    optimizer.zero_grad()  \n",
    "    \n",
    "    outputs = model(x_train)\n",
    "    loss = criterion(outputs, y_train)\n",
    "    \n",
    "    loss.backward()  \n",
    "    \n",
    "    for name, param in model.named_parameters():\n",
    "        if param.grad is not None:\n",
    "            print(f'Gradient for {name}')\n",
    "    \n",
    "    optimizer.step()  \n",
    "    \n",
    "    print(f'Epoch [{epoch+1}/{num_epochs}], Loss: {loss.item():.4f}')"
   ]
  },
  {
   "cell_type": "code",
   "execution_count": 108,
   "metadata": {},
   "outputs": [],
   "source": [
    "# 0. setup\n",
    "device = 'cuda:0'\n",
    "\n",
    "x_train = torch.randn(64, 10)\n",
    "y_train = torch.randn(64, 1)\n",
    "\n",
    "x_train = x_train.to(device)\n",
    "y_train = y_train.to(device)"
   ]
  },
  {
   "cell_type": "code",
   "execution_count": 105,
   "metadata": {},
   "outputs": [],
   "source": [
    "# 1. Initialize a simple fc model\n",
    "class Model(nn.Module):\n",
    "    \n",
    "    def __init__(self):\n",
    "        super(Model, self).__init__()\n",
    "        self.fc1 = nn.Linear(10, 10)\n",
    "        self.relu = nn.ReLU()\n",
    "        self.fc2 = nn.Linear(10, 1)\n",
    "        \n",
    "    def forward(self, x):\n",
    "        x = self.fc1(x)\n",
    "        x = self.relu(x)\n",
    "        x = self.fc2(x)\n",
    "        return x\n",
    "    \n",
    "    \n",
    "model = Model().cuda()"
   ]
  },
  {
   "cell_type": "code",
   "execution_count": 137,
   "metadata": {},
   "outputs": [
    {
     "name": "stdout",
     "output_type": "stream",
     "text": [
      "Parameters with the following prefix will be trainable: ['fc1.weight']\n",
      "fc1.weight\n"
     ]
    },
    {
     "data": {
      "text/plain": [
       "BlockOptimizer (\n",
       "Parameter Group 0\n",
       "    amsgrad: False\n",
       "    betas: (0.9, 0.999)\n",
       "    capturable: False\n",
       "    differentiable: False\n",
       "    eps: 1e-08\n",
       "    foreach: None\n",
       "    fused: None\n",
       "    lr: 0.001\n",
       "    maximize: False\n",
       "    weight_decay: 0\n",
       ")"
      ]
     },
     "execution_count": 137,
     "metadata": {},
     "output_type": "execute_result"
    }
   ],
   "source": [
    "# 2. Initialize the BAdam Optimizer\n",
    "adam_optimizer = optim.Adam(model.parameters(), lr=0.001)\n",
    "badam_optimizer = BlockOptimizer(\n",
    "    base_optimizer = adam_optimizer,\n",
    "    named_parameters_list = list(model.named_parameters()),\n",
    "    switch_block_every = 10,\n",
    "    switch_mode='ascending',\n",
    "    verbose=2,\n",
    "    block_prefix_list = block_prefix_list\n",
    ")\n",
    "\n",
    "badam_optimizer"
   ]
  },
  {
   "cell_type": "code",
   "execution_count": 43,
   "metadata": {},
   "outputs": [],
   "source": [
    "# 3. Define the loss function\n",
    "criterion = nn.MSELoss()"
   ]
  },
  {
   "cell_type": "code",
   "execution_count": 127,
   "metadata": {},
   "outputs": [],
   "source": [
    "# 4. CUDA Automatic Mixed Prercision https://pytorch.org/docs/stable/notes/amp_examples.html#amp-examples\n",
    "from torch.cuda.amp import autocast, GradScaler\n",
    "\n",
    "scaler = GradScaler()"
   ]
  },
  {
   "cell_type": "code",
   "execution_count": 138,
   "metadata": {},
   "outputs": [
    {
     "name": "stdout",
     "output_type": "stream",
     "text": [
      "name fc1.weight\n",
      "loss: 1.1344 type torch.float32\n",
      "name fc1.weight\n",
      "loss: 1.1321 type torch.float32\n",
      "name fc1.weight\n",
      "loss: 1.1298 type torch.float32\n",
      "name fc1.weight\n",
      "loss: 1.1277 type torch.float32\n",
      "name fc1.weight\n",
      "loss: 1.1255 type torch.float32\n",
      "name fc1.weight\n",
      "loss: 1.1234 type torch.float32\n",
      "name fc1.weight\n",
      "loss: 1.1213 type torch.float32\n",
      "name fc1.weight\n",
      "loss: 1.1192 type torch.float32\n",
      "name fc1.weight\n",
      "Parameters with the following prefix will be trainable: ['fc1.bias']\n",
      "fc1.bias\n",
      "loss: 1.1171 type torch.float32\n",
      "name fc1.bias\n",
      "loss: 1.1151 type torch.float32\n",
      "name fc1.bias\n",
      "loss: 1.1146 type torch.float32\n",
      "name fc1.bias\n",
      "loss: 1.1142 type torch.float32\n",
      "name fc1.bias\n",
      "loss: 1.1138 type torch.float32\n",
      "name fc1.bias\n",
      "loss: 1.1134 type torch.float32\n",
      "name fc1.bias\n",
      "loss: 1.1130 type torch.float32\n",
      "name fc1.bias\n",
      "loss: 1.1126 type torch.float32\n",
      "name fc1.bias\n",
      "loss: 1.1122 type torch.float32\n",
      "name fc1.bias\n",
      "loss: 1.1119 type torch.float32\n",
      "name fc1.bias\n",
      "Parameters with the following prefix will be trainable: ['fc2.weight']\n",
      "fc2.weight\n",
      "loss: 1.1115 type torch.float32\n",
      "name fc2.weight\n",
      "loss: 1.1111 type torch.float32\n"
     ]
    }
   ],
   "source": [
    "model.train()\n",
    "num_epochs = 20\n",
    "for epoch in range(num_epochs):\n",
    "    outputs = model(x_train)\n",
    "    loss = criterion(outputs, y_train)\n",
    "    \n",
    "    badam_optimizer.zero_grad() \n",
    "    loss.backward()\n",
    "    \n",
    "    for name, param in model.named_parameters():\n",
    "        if param.grad is not None:\n",
    "            print(f'name {name}')\n",
    "    \n",
    "    badam_optimizer.step()\n",
    "    \n",
    "    \n",
    "    print(f'loss: {loss.item():.4f} type {loss.dtype}')"
   ]
  },
  {
   "cell_type": "code",
   "execution_count": 130,
   "metadata": {},
   "outputs": [],
   "source": [
    "# 5. use half precision/mis precision\n",
    "scaler = GradScaler()\n",
    "\n",
    "num_epochs = 10\n",
    "for epoch in range(num_epochs):\n",
    "    model.train()\n",
    "    with autocast():\n",
    "        outputs = model(x_train)\n",
    "        #print(f'output precision {outputs.dtype}')\n",
    "        loss = criterion(outputs, y_train)\n",
    "        #print(f'loss precision {loss.dtype} loss before scale {loss.item():.4f}')\n",
    "    \n",
    "    badam_optimizer.zero_grad()\n",
    "    scaler.scale(loss).backward()\n",
    "    scaler.step(badam_optimizer)\n",
    "    scaler.update()\n",
    "    "
   ]
  }
 ],
 "metadata": {
  "kernelspec": {
   "display_name": "venv",
   "language": "python",
   "name": "python3"
  },
  "language_info": {
   "codemirror_mode": {
    "name": "ipython",
    "version": 3
   },
   "file_extension": ".py",
   "mimetype": "text/x-python",
   "name": "python",
   "nbconvert_exporter": "python",
   "pygments_lexer": "ipython3",
   "version": "3.10.14"
  }
 },
 "nbformat": 4,
 "nbformat_minor": 2
}
